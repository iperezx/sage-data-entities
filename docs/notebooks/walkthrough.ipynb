{
 "cells": [
  {
   "cell_type": "code",
   "execution_count": null,
   "metadata": {},
   "outputs": [],
   "source": [
    "import sage_data_entities.data_entities as sdt"
   ]
  },
  {
   "cell_type": "code",
   "execution_count": null,
   "metadata": {},
   "outputs": [],
   "source": [
    "data_api = 'https://sage-data-api.nrp-nautilus.io/api/v1'"
   ]
  },
  {
   "cell_type": "code",
   "execution_count": null,
   "metadata": {},
   "outputs": [],
   "source": [
    "#Simple example just using request\n",
    "url = data_api+'/sensor-hardware-data'\n",
    "data_entity = sdt.DataEntityBase(url)\n",
    "data = data_entity.getData()\n",
    "data"
   ]
  },
  {
   "cell_type": "markdown",
   "metadata": {},
   "source": [
    "## SDR data \n",
    "Get all plugins in the past 1hr"
   ]
  },
  {
   "cell_type": "code",
   "execution_count": null,
   "metadata": {},
   "outputs": [],
   "source": [
    "pluginURL = 'https://data.sagecontinuum.org/api/v1/query'\n",
    "querySDR = {\"start\": \"-1h\",\n",
    "           \"tail\": 1,\n",
    "            \"filter\": {\n",
    "                \"plugin\": \"*.*\"\n",
    "            }\n",
    "          }\n",
    "\n",
    "sdr = sdt.SDR(pluginURL)"
   ]
  },
  {
   "cell_type": "code",
   "execution_count": null,
   "metadata": {},
   "outputs": [],
   "source": [
    "pluginDataDF = sdr.getSDRData(querySDR).head(100)\n",
    "pluginDataDF"
   ]
  },
  {
   "cell_type": "markdown",
   "metadata": {},
   "source": [
    "## Nodes"
   ]
  },
  {
   "cell_type": "code",
   "execution_count": null,
   "metadata": {},
   "outputs": [],
   "source": [
    "nodeURL = data_api+'/nodes-wild-data'\n",
    "nodes = sdt.Nodes(nodeURL)\n",
    "nodeData = nodes.getNodeData()\n",
    "nodeData"
   ]
  },
  {
   "cell_type": "markdown",
   "metadata": {},
   "source": [
    "## Sensor Hardware"
   ]
  },
  {
   "cell_type": "code",
   "execution_count": null,
   "metadata": {},
   "outputs": [],
   "source": [
    "sensorHardwareURL = data_api+'/sensor-hardware-data'\n",
    "sensors = sdt.Sensors(sensorHardwareURL)\n",
    "sensorData = sensors.getSensorHardwareData()\n",
    "sensorData"
   ]
  },
  {
   "cell_type": "markdown",
   "metadata": {},
   "source": [
    "## ECR data"
   ]
  },
  {
   "cell_type": "code",
   "execution_count": null,
   "metadata": {},
   "outputs": [],
   "source": [
    "ecrAppEndpoint = 'https://ecr.sagecontinuum.org/api/apps'\n",
    "ecr = sdt.ECR(ecrAppEndpoint)\n",
    "ecrData = ecr.getECRData().T\n",
    "ecrData"
   ]
  },
  {
   "cell_type": "markdown",
   "metadata": {},
   "source": [
    "## Edge Scheduler (ES)"
   ]
  },
  {
   "cell_type": "code",
   "execution_count": null,
   "metadata": {},
   "outputs": [],
   "source": [
    "esEndpoint = 'https://ecr.sagecontinuum.org/api/apps'\n",
    "es = sdt.EdgeSched(esEndpoint)\n",
    "esData = es.getESData()"
   ]
  },
  {
   "cell_type": "code",
   "execution_count": null,
   "metadata": {},
   "outputs": [],
   "source": [
    "esData.T"
   ]
  },
  {
   "cell_type": "code",
   "execution_count": null,
   "metadata": {},
   "outputs": [],
   "source": [
    "esData[esData.owner == 'iperezx']"
   ]
  },
  {
   "cell_type": "code",
   "execution_count": null,
   "metadata": {},
   "outputs": [],
   "source": []
  }
 ],
 "metadata": {
  "kernelspec": {
   "display_name": "Python 3.9.14 64-bit",
   "language": "python",
   "name": "python3"
  },
  "language_info": {
   "codemirror_mode": {
    "name": "ipython",
    "version": 3
   },
   "file_extension": ".py",
   "mimetype": "text/x-python",
   "name": "python",
   "nbconvert_exporter": "python",
   "pygments_lexer": "ipython3",
   "version": "3.9.14"
  },
  "orig_nbformat": 4,
  "vscode": {
   "interpreter": {
    "hash": "397704579725e15f5c7cb49fe5f0341eb7531c82d19f2c29d197e8b64ab5776b"
   }
  }
 },
 "nbformat": 4,
 "nbformat_minor": 2
}
